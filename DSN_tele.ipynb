{
  "nbformat": 4,
  "nbformat_minor": 0,
  "metadata": {
    "colab": {
      "name": "DSN tele.ipynb",
      "provenance": [],
      "authorship_tag": "ABX9TyMn4Qv3pdWZMpQ9QdDfgMfO",
      "include_colab_link": true
    },
    "kernelspec": {
      "name": "python3",
      "display_name": "Python 3"
    },
    "language_info": {
      "name": "python"
    }
  },
  "cells": [
    {
      "cell_type": "markdown",
      "metadata": {
        "id": "view-in-github",
        "colab_type": "text"
      },
      "source": [
        "<a href=\"https://colab.research.google.com/github/adejumoridwan/Data-Science-Slide/blob/main/DSN_tele.ipynb\" target=\"_parent\"><img src=\"https://colab.research.google.com/assets/colab-badge.svg\" alt=\"Open In Colab\"/></a>"
      ]
    },
    {
      "cell_type": "code",
      "execution_count": 3,
      "metadata": {
        "colab": {
          "base_uri": "https://localhost:8080/"
        },
        "id": "5d9uWpjdp9PD",
        "outputId": "e0e39898-b63e-44a6-b812-0ffc2ff9fab9"
      },
      "outputs": [
        {
          "output_type": "stream",
          "name": "stdout",
          "text": [
            "Looking in indexes: https://pypi.org/simple, https://us-python.pkg.dev/colab-wheels/public/simple/\n",
            "Collecting telethon\n",
            "  Downloading Telethon-1.24.0-py3-none-any.whl (528 kB)\n",
            "\u001b[K     |████████████████████████████████| 528 kB 6.8 MB/s \n",
            "\u001b[?25hCollecting pyaes\n",
            "  Downloading pyaes-1.6.1.tar.gz (28 kB)\n",
            "Requirement already satisfied: rsa in /usr/local/lib/python3.7/dist-packages (from telethon) (4.8)\n",
            "Requirement already satisfied: pyasn1>=0.1.3 in /usr/local/lib/python3.7/dist-packages (from rsa->telethon) (0.4.8)\n",
            "Building wheels for collected packages: pyaes\n",
            "  Building wheel for pyaes (setup.py) ... \u001b[?25l\u001b[?25hdone\n",
            "  Created wheel for pyaes: filename=pyaes-1.6.1-py3-none-any.whl size=26363 sha256=ee23f47b14d3b80ed69d45a5e85d2da1be218223ba6f35fc93faf452c5c09c5e\n",
            "  Stored in directory: /root/.cache/pip/wheels/42/a3/7d/73d60820adb58d818179cdec3fc1be66f6f7453513a3ff0b05\n",
            "Successfully built pyaes\n",
            "Installing collected packages: pyaes, telethon\n",
            "Successfully installed pyaes-1.6.1 telethon-1.24.0\n"
          ]
        }
      ],
      "source": [
        "!pip install  telethon\n",
        "\n",
        "import configparser\n",
        "import json\n",
        "\n",
        "from telethon import TelegramClient\n",
        "from telethon.errors import SessionPasswordNeededError\n",
        "\n",
        "# Install the module and import it :\n",
        "!pip install google-cloud-secret-manager\n",
        "from google.cloud import secretmanager\n",
        "\n",
        "# Create a Client:\n",
        "client = secretmanager.SecretManagerServiceClient()\n",
        "secret_name = \"my-secret\" # => To be replaced with your secret name\n",
        "project_id = 'my-project' # => To be replaced with your GCP Project\n",
        "\n",
        "# Forge the path to the latest version of your secret with an F-string:\n",
        "resource_name = f\"projects/{project_id}/secrets/{secret_name}/versions/latest\" \n",
        "\n",
        "# Get your secret :\n",
        "response = client.access_secret_version(request={\"name\": resource_name})\n",
        "secret_string = response.payload.data.decode('UTF-8')\n",
        "\n",
        "# Tada ! you secret is in the secret_string variable!\n"
      ]
    }
  ]
}